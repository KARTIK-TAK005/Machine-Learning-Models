{
 "cells": [
  {
   "cell_type": "code",
   "execution_count": 1,
   "id": "dd7def39",
   "metadata": {},
   "outputs": [],
   "source": [
    "from sklearn import datasets, linear_model\n",
    "from sklearn.metrics import mean_squared_error\n",
    "import matplotlib.pyplot as plt\n",
    "import numpy as np"
   ]
  },
  {
   "cell_type": "code",
   "execution_count": 2,
   "id": "98e4910b",
   "metadata": {},
   "outputs": [],
   "source": [
    "wine = datasets.load_wine()"
   ]
  },
  {
   "cell_type": "code",
   "execution_count": 3,
   "id": "341ad0cc",
   "metadata": {},
   "outputs": [
    {
     "name": "stdout",
     "output_type": "stream",
     "text": [
      "dict_keys(['data', 'target', 'frame', 'target_names', 'DESCR', 'feature_names'])\n",
      ".. _wine_dataset:\n",
      "\n",
      "Wine recognition dataset\n",
      "------------------------\n",
      "\n",
      "**Data Set Characteristics:**\n",
      "\n",
      "    :Number of Instances: 178 (50 in each of three classes)\n",
      "    :Number of Attributes: 13 numeric, predictive attributes and the class\n",
      "    :Attribute Information:\n",
      " \t\t- Alcohol\n",
      " \t\t- Malic acid\n",
      " \t\t- Ash\n",
      "\t\t- Alcalinity of ash  \n",
      " \t\t- Magnesium\n",
      "\t\t- Total phenols\n",
      " \t\t- Flavanoids\n",
      " \t\t- Nonflavanoid phenols\n",
      " \t\t- Proanthocyanins\n",
      "\t\t- Color intensity\n",
      " \t\t- Hue\n",
      " \t\t- OD280/OD315 of diluted wines\n",
      " \t\t- Proline\n",
      "\n",
      "    - class:\n",
      "            - class_0\n",
      "            - class_1\n",
      "            - class_2\n",
      "\t\t\n",
      "    :Summary Statistics:\n",
      "    \n",
      "    ============================= ==== ===== ======= =====\n",
      "                                   Min   Max   Mean     SD\n",
      "    ============================= ==== ===== ======= =====\n",
      "    Alcohol:                      11.0  14.8    13.0   0.8\n",
      "    Malic Acid:                   0.74  5.80    2.34  1.12\n",
      "    Ash:                          1.36  3.23    2.36  0.27\n",
      "    Alcalinity of Ash:            10.6  30.0    19.5   3.3\n",
      "    Magnesium:                    70.0 162.0    99.7  14.3\n",
      "    Total Phenols:                0.98  3.88    2.29  0.63\n",
      "    Flavanoids:                   0.34  5.08    2.03  1.00\n",
      "    Nonflavanoid Phenols:         0.13  0.66    0.36  0.12\n",
      "    Proanthocyanins:              0.41  3.58    1.59  0.57\n",
      "    Colour Intensity:              1.3  13.0     5.1   2.3\n",
      "    Hue:                          0.48  1.71    0.96  0.23\n",
      "    OD280/OD315 of diluted wines: 1.27  4.00    2.61  0.71\n",
      "    Proline:                       278  1680     746   315\n",
      "    ============================= ==== ===== ======= =====\n",
      "\n",
      "    :Missing Attribute Values: None\n",
      "    :Class Distribution: class_0 (59), class_1 (71), class_2 (48)\n",
      "    :Creator: R.A. Fisher\n",
      "    :Donor: Michael Marshall (MARSHALL%PLU@io.arc.nasa.gov)\n",
      "    :Date: July, 1988\n",
      "\n",
      "This is a copy of UCI ML Wine recognition datasets.\n",
      "https://archive.ics.uci.edu/ml/machine-learning-databases/wine/wine.data\n",
      "\n",
      "The data is the results of a chemical analysis of wines grown in the same\n",
      "region in Italy by three different cultivators. There are thirteen different\n",
      "measurements taken for different constituents found in the three types of\n",
      "wine.\n",
      "\n",
      "Original Owners: \n",
      "\n",
      "Forina, M. et al, PARVUS - \n",
      "An Extendible Package for Data Exploration, Classification and Correlation. \n",
      "Institute of Pharmaceutical and Food Analysis and Technologies,\n",
      "Via Brigata Salerno, 16147 Genoa, Italy.\n",
      "\n",
      "Citation:\n",
      "\n",
      "Lichman, M. (2013). UCI Machine Learning Repository\n",
      "[https://archive.ics.uci.edu/ml]. Irvine, CA: University of California,\n",
      "School of Information and Computer Science. \n",
      "\n",
      ".. topic:: References\n",
      "\n",
      "  (1) S. Aeberhard, D. Coomans and O. de Vel, \n",
      "  Comparison of Classifiers in High Dimensional Settings, \n",
      "  Tech. Rep. no. 92-02, (1992), Dept. of Computer Science and Dept. of  \n",
      "  Mathematics and Statistics, James Cook University of North Queensland. \n",
      "  (Also submitted to Technometrics). \n",
      "\n",
      "  The data was used with many others for comparing various \n",
      "  classifiers. The classes are separable, though only RDA \n",
      "  has achieved 100% correct classification. \n",
      "  (RDA : 100%, QDA 99.4%, LDA 98.9%, 1NN 96.1% (z-transformed data)) \n",
      "  (All results using the leave-one-out technique) \n",
      "\n",
      "  (2) S. Aeberhard, D. Coomans and O. de Vel, \n",
      "  \"THE CLASSIFICATION PERFORMANCE OF RDA\" \n",
      "  Tech. Rep. no. 92-01, (1992), Dept. of Computer Science and Dept. of \n",
      "  Mathematics and Statistics, James Cook University of North Queensland. \n",
      "  (Also submitted to Journal of Chemometrics).\n",
      "\n"
     ]
    }
   ],
   "source": [
    "print(wine.keys())\n",
    "print(wine.DESCR)"
   ]
  },
  {
   "cell_type": "code",
   "execution_count": 12,
   "id": "76ab23eb",
   "metadata": {},
   "outputs": [
    {
     "data": {
      "text/plain": [
       "array([[2.43],\n",
       "       [2.14],\n",
       "       [2.67],\n",
       "       [2.5 ],\n",
       "       [2.87],\n",
       "       [2.45],\n",
       "       [2.45],\n",
       "       [2.61],\n",
       "       [2.17],\n",
       "       [2.27],\n",
       "       [2.3 ],\n",
       "       [2.32],\n",
       "       [2.41],\n",
       "       [2.39],\n",
       "       [2.38],\n",
       "       [2.7 ],\n",
       "       [2.72],\n",
       "       [2.62],\n",
       "       [2.48],\n",
       "       [2.56],\n",
       "       [2.28],\n",
       "       [2.65],\n",
       "       [2.36],\n",
       "       [2.52],\n",
       "       [2.61],\n",
       "       [3.22],\n",
       "       [2.62],\n",
       "       [2.14],\n",
       "       [2.8 ],\n",
       "       [2.21],\n",
       "       [2.7 ],\n",
       "       [2.36],\n",
       "       [2.36],\n",
       "       [2.7 ],\n",
       "       [2.65],\n",
       "       [2.41],\n",
       "       [2.84],\n",
       "       [2.55],\n",
       "       [2.1 ],\n",
       "       [2.51],\n",
       "       [2.31],\n",
       "       [2.12],\n",
       "       [2.59],\n",
       "       [2.29],\n",
       "       [2.1 ],\n",
       "       [2.44],\n",
       "       [2.28],\n",
       "       [2.12],\n",
       "       [2.4 ],\n",
       "       [2.27],\n",
       "       [2.04],\n",
       "       [2.6 ],\n",
       "       [2.42],\n",
       "       [2.68],\n",
       "       [2.25],\n",
       "       [2.46],\n",
       "       [2.3 ],\n",
       "       [2.68],\n",
       "       [2.5 ],\n",
       "       [1.36],\n",
       "       [2.28],\n",
       "       [2.02],\n",
       "       [1.92],\n",
       "       [2.16],\n",
       "       [2.53],\n",
       "       [2.56],\n",
       "       [1.7 ],\n",
       "       [1.92],\n",
       "       [2.36],\n",
       "       [1.75],\n",
       "       [2.21],\n",
       "       [2.67],\n",
       "       [2.24],\n",
       "       [2.6 ],\n",
       "       [2.3 ],\n",
       "       [1.92],\n",
       "       [1.71],\n",
       "       [2.23],\n",
       "       [1.95],\n",
       "       [2.4 ],\n",
       "       [2.  ],\n",
       "       [2.2 ],\n",
       "       [2.51],\n",
       "       [2.32],\n",
       "       [2.58],\n",
       "       [2.24],\n",
       "       [2.31],\n",
       "       [2.62],\n",
       "       [2.46],\n",
       "       [2.3 ],\n",
       "       [2.32],\n",
       "       [2.42],\n",
       "       [2.26],\n",
       "       [2.22],\n",
       "       [2.28],\n",
       "       [2.2 ],\n",
       "       [2.74],\n",
       "       [1.98],\n",
       "       [2.1 ],\n",
       "       [2.21],\n",
       "       [1.7 ],\n",
       "       [1.9 ],\n",
       "       [2.46],\n",
       "       [1.88],\n",
       "       [1.98],\n",
       "       [2.27],\n",
       "       [2.12],\n",
       "       [2.28],\n",
       "       [1.94],\n",
       "       [2.7 ],\n",
       "       [1.82],\n",
       "       [2.17],\n",
       "       [2.92],\n",
       "       [2.5 ],\n",
       "       [2.5 ],\n",
       "       [2.2 ],\n",
       "       [1.99],\n",
       "       [2.19],\n",
       "       [1.98],\n",
       "       [2.  ],\n",
       "       [2.42],\n",
       "       [3.23],\n",
       "       [2.73],\n",
       "       [2.13],\n",
       "       [2.39],\n",
       "       [2.17],\n",
       "       [2.29],\n",
       "       [2.78],\n",
       "       [2.3 ],\n",
       "       [2.38],\n",
       "       [2.32],\n",
       "       [2.4 ],\n",
       "       [2.4 ],\n",
       "       [2.36],\n",
       "       [2.25],\n",
       "       [2.2 ],\n",
       "       [2.54],\n",
       "       [2.64],\n",
       "       [2.19],\n",
       "       [2.61],\n",
       "       [2.7 ],\n",
       "       [2.35],\n",
       "       [2.72],\n",
       "       [2.35],\n",
       "       [2.2 ],\n",
       "       [2.15],\n",
       "       [2.23],\n",
       "       [2.48],\n",
       "       [2.38],\n",
       "       [2.36],\n",
       "       [2.62],\n",
       "       [2.48],\n",
       "       [2.75],\n",
       "       [2.28],\n",
       "       [2.1 ],\n",
       "       [2.32],\n",
       "       [2.38],\n",
       "       [2.64],\n",
       "       [2.7 ],\n",
       "       [2.64],\n",
       "       [2.38],\n",
       "       [2.54],\n",
       "       [2.58],\n",
       "       [2.35],\n",
       "       [2.3 ],\n",
       "       [2.26],\n",
       "       [2.6 ],\n",
       "       [2.3 ],\n",
       "       [2.69],\n",
       "       [2.86],\n",
       "       [2.32],\n",
       "       [2.28],\n",
       "       [2.48],\n",
       "       [2.45],\n",
       "       [2.48],\n",
       "       [2.26],\n",
       "       [2.37],\n",
       "       [2.74]])"
      ]
     },
     "execution_count": 12,
     "metadata": {},
     "output_type": "execute_result"
    }
   ],
   "source": [
    "wine_x = wine.data[:, np.newaxis, 2]\n",
    "wine_x"
   ]
  },
  {
   "cell_type": "code",
   "execution_count": 13,
   "id": "8c865599",
   "metadata": {},
   "outputs": [],
   "source": [
    "wine_x_train = wine_x[: -3]\n",
    "wine_x_test = wine_x[-30:]"
   ]
  },
  {
   "cell_type": "code",
   "execution_count": 14,
   "id": "cad72b63",
   "metadata": {},
   "outputs": [],
   "source": [
    "wine_y_train = wine.target[: -30]\n",
    "wine_y_test = wine.target[-30 :]"
   ]
  },
  {
   "cell_type": "code",
   "execution_count": 15,
   "id": "93496957",
   "metadata": {},
   "outputs": [
    {
     "data": {
      "text/plain": [
       "LinearRegression()"
      ]
     },
     "execution_count": 15,
     "metadata": {},
     "output_type": "execute_result"
    }
   ],
   "source": [
    "model = linear_model.LinearRegression()\n",
    "model.fit(wine_x_train, wine_y_train)"
   ]
  },
  {
   "cell_type": "code",
   "execution_count": 16,
   "id": "51d522d1",
   "metadata": {},
   "outputs": [],
   "source": [
    "wine_y_predicted = model.predict(wine_x_test)"
   ]
  },
  {
   "cell_type": "code",
   "execution_count": 17,
   "id": "2ceeb187",
   "metadata": {},
   "outputs": [
    {
     "name": "stdout",
     "output_type": "stream",
     "text": [
      "mean square error is: 1.7780554476718369\n"
     ]
    }
   ],
   "source": [
    "print(\"mean square error is:\", mean_squared_error(wine_y_test, wine_y_predicted))"
   ]
  },
  {
   "cell_type": "code",
   "execution_count": 18,
   "id": "752f1d0a",
   "metadata": {},
   "outputs": [
    {
     "name": "stdout",
     "output_type": "stream",
     "text": [
      "Weights: [-0.46345413]\n",
      "Labels: 1.810681037344475\n"
     ]
    }
   ],
   "source": [
    "print(\"Weights:\",model.coef_)\n",
    "print(\"Labels:\",model.intercept_)"
   ]
  },
  {
   "cell_type": "code",
   "execution_count": 21,
   "id": "31afd935",
   "metadata": {},
   "outputs": [
    {
     "data": {
      "image/png": "[encoded data removed]",
      "text/plain": [
       "<Figure size 432x288 with 1 Axes>"
      ]
     },
     "metadata": {
      "needs_background": "light"
     },
     "output_type": "display_data"
    }
   ],
   "source": [
    "plt.scatter(wine_x_test, wine_y_test)\n",
    "plt.plot(wine_x_test, wine_y_predicted)\n",
    "plt.show()"
   ]
  },
  {
   "cell_type": "code",
   "execution_count": null,
   "id": "36de2747",
   "metadata": {},
   "outputs": [],
   "source": []
  }
 ],
 "metadata": {
  "kernelspec": {
   "display_name": "datascience",
   "language": "python",
   "name": "datascience"
  },
  "language_info": {
   "codemirror_mode": {
    "name": "ipython",
    "version": 3
   },
   "file_extension": ".py",
   "mimetype": "text/x-python",
   "name": "python",
   "nbconvert_exporter": "python",
   "pygments_lexer": "ipython3",
   "version": "3.8.8"
  }
 },
 "nbformat": 4,
 "nbformat_minor": 5
}
